{
 "cells": [
  {
   "cell_type": "code",
   "execution_count": 1,
   "metadata": {},
   "outputs": [],
   "source": [
    "lst ={\"1001\": {\"name\": \"Perk\", \"price\": 5, \"quantity\": 20, \"weight\": 20, \"calorie\": 50}, \n",
    "      \"1002\": {\"name\": \"Kitkat\", \"price\": 5, \"quantity\": 20, \"weight\": 10, \"calorie\": 30},\n",
    "      \"1003\": {\"name\": \"5 star\", \"price\": 5, \"quantity\": 20, \"weight\": 15, \"calorie\": 70},\n",
    "      \"1004\": {\"name\": \"Cadbury\", \"price\": 5, \"quantity\": 20, \"weight\": 20, \"calorie\": 90},\n",
    "      \"1005\": {\"name\": \"Munch\", \"price\": 10, \"quantity\": 20, \"weight\": 10, \"calorie\": 70},\n",
    "      \"1006\": {\"name\": \"Mango\", \"price\": 10, \"quantity\": 20, \"weight\": 20, \"calorie\": 60},\n",
    "      \"1007\": {\"name\": \"Fruti\", \"price\": 20, \"quantity\": 20, \"weight\": 50, \"calorie\": 30},\n",
    "      \"1008\": {\"name\": \"Fizz\", \"price\": 30, \"quantity\": 20, \"weight\": 50, \"calorie\": 50}, \n",
    "      \"1009\": {\"name\": \"Macho\", \"price\": 50, \"quantity\": 20, \"weight\": 20, \"calorie\": 50}, \n",
    "      \"1010\": {\"name\": \"Bovonto\", \"price\": 30, \"quantity\": 20, \"weight\": 20, \"calorie\": 70},\n",
    "      \"1011\": {\"name\": \"Bingo\", \"price\": 5, \"quantity\": 20, \"weight\": 20, \"calorie\": 50}, \n",
    "      \"1012\": {\"name\": \"Frooti\", \"price\": 5, \"quantity\": 20, \"weight\": 10, \"calorie\": 40}, \n",
    "      \"1013\": {\"name\": \"MarshMellows\", \"price\": 25, \"quantity\": 20, \"weight\": 20, \"calorie\": 100}, \n",
    "      \"1014\": {\"name\": \"Oreo\", \"price\": 15, \"quantity\": 20, \"weight\": 20, \"calorie\": 70}, \n",
    "      \"1015\": {\"name\": \"Cocacola\", \"price\": 20, \"quantity\": 20, \"weight\": 200, \"calorie\": 50},\n",
    "      \"1016\": {\"name\": \"Parle\", \"price\": 5, \"quantity\": 20, \"weight\": 20, \"calorie\": 50}, \n",
    "      \"1017\": {\"name\": \"Marie Gold\", \"price\": 5, \"quantity\": 20, \"weight\": 50, \"calorie\": 50},\n",
    "      \"1018\": {\"name\": \"Dark Chocolates\", \"price\": 30, \"quantity\": 20, \"weight\": 20, \"calorie\": 50}, \n",
    "      \"1019\": {\"name\": \"Amul cheese\", \"price\": 50, \"quantity\": 20, \"weight\": 50, \"calorie\": 150},\n",
    "      \"1020\": {\"name\": \"Maggi\", \"price\": 12, \"quantity\": 20, \"weight\": 20, \"calorie\": 50},\n",
    "      \"1021\": {\"name\": \"Pears\", \"price\": 18, \"quantity\": 20, \"weight\": 20, \"calorie\": 50}, \n",
    "      \"1022\": {\"name\": \"Lays\", \"price\": 10, \"quantity\": 20, \"weight\": 20, \"calorie\": 50},\n",
    "      \"1023\": {\"name\": \"Butter\", \"price\": 25, \"quantity\": 20, \"weight\": 25, \"calorie\": 100}, \n",
    "      \"1024\": {\"name\": \"Pringles\", \"price\": 100, \"quantity\": 10, \"weight\": 150, \"calorie\": 100},\n",
    "      \"1025\": {\"name\": \"Peanuts\", \"price\": 500, \"quantity\": 20, \"weight\": 250, \"calorie\": 200}, \n",
    "      \"1026\": {\"name\": \"Gold crisp\", \"price\": 10, \"quantity\": 20, \"weight\": 10, \"calorie\": 500},\n",
    "      \"1027\": {\"name\": \"Dairy milk silk\", \"price\": 100, \"quantity\": 20, \"weight\": 50, \"calorie\": 250},\n",
    "      \"1028\": {\"name\": \"Milkybar\", \"price\": 5, \"quantity\": 20, \"weight\": 10, \"calorie\": 30}, \n",
    "      \"1029\": {\"name\": \"Lassi\", \"price\": 20, \"quantity\": 20, \"weight\": 300, \"calorie\": 150},\n",
    "      \"1030\": {\"name\": \"Red Bull\", \"price\": 120, \"quantity\": 20, \"weight\": 200, \"calorie\": 175}}"
   ]
  },
  {
   "cell_type": "code",
   "execution_count": 2,
   "metadata": {},
   "outputs": [],
   "source": [
    "#Adding the inventories to the json file"
   ]
  },
  {
   "cell_type": "code",
   "execution_count": 3,
   "metadata": {},
   "outputs": [],
   "source": [
    "import json\n",
    "data = json.dumps(lst)\n",
    "\n",
    "fp = open(\"records.json\", \"w\")\n",
    "fp.write(data)\n",
    "fp.close()"
   ]
  },
  {
   "cell_type": "code",
   "execution_count": 4,
   "metadata": {},
   "outputs": [],
   "source": [
    "#Adding inventory"
   ]
  },
  {
   "cell_type": "code",
   "execution_count": 9,
   "metadata": {},
   "outputs": [
    {
     "name": "stdout",
     "output_type": "stream",
     "text": [
      "Enter the product id:1002\n",
      "Enter the product name:Kitkat\n",
      "Enter the price of the product:5\n",
      "Enter the quantity:20\n",
      "Enter weight of the product:10\n",
      "Enter calories of the product:30\n"
     ]
    }
   ],
   "source": [
    "pr_id = input(\"Enter the product id:\")\n",
    "name = input(\"Enter the product name:\")\n",
    "price = int(input(\"Enter the price of the product:\"))\n",
    "qty = int(input(\"Enter the quantity:\"))\n",
    "weight = int(input(\"Enter weight of the product:\"))\n",
    "calorie = int(input(\"Enter calories of the product:\"))"
   ]
  },
  {
   "cell_type": "code",
   "execution_count": 10,
   "metadata": {},
   "outputs": [
    {
     "data": {
      "text/plain": [
       "{'name': 'Kitkat', 'price': 5, 'quantity': 20, 'weight': 10, 'calorie': 30}"
      ]
     },
     "execution_count": 10,
     "metadata": {},
     "output_type": "execute_result"
    }
   ],
   "source": [
    "fp = open(\"records.json\", \"r\")\n",
    "data = fp.read()\n",
    "fp.close()\n",
    "\n",
    "existing_rec = json.loads(data)\n",
    "existing_rec[pr_id]"
   ]
  },
  {
   "cell_type": "code",
   "execution_count": 11,
   "metadata": {},
   "outputs": [],
   "source": [
    "#Inserting new records if it doesnt exist or upadting the existing record"
   ]
  },
  {
   "cell_type": "code",
   "execution_count": 12,
   "metadata": {},
   "outputs": [],
   "source": [
    "if (pr_id in existing_rec.keys()):\n",
    "    existing_rec[pr_id][\"quantity\"] += qty\n",
    "else:\n",
    "    existing_rec[pr_id] = { \"name\":name,\n",
    "                            \"price\":price,\n",
    "                              \"quantity\":qty,\n",
    "                              \"weight\":weight,\n",
    "                              \"calorie\":calorie}"
   ]
  },
  {
   "cell_type": "code",
   "execution_count": 13,
   "metadata": {},
   "outputs": [
    {
     "name": "stdout",
     "output_type": "stream",
     "text": [
      "Enter the product id:1031\n",
      "Enter the product name:Waffles\n",
      "Enter the price of the product:50\n",
      "Enter the quantity:10\n",
      "Enter weight of product:60\n",
      "Enter calorie of the product100\n",
      "do you want to add another record? [yes: 1/ No :0]0\n"
     ]
    }
   ],
   "source": [
    "def addProduct():\n",
    "\n",
    "    pr_id = input(\"Enter the product id:\")\n",
    "    name = input(\"Enter the product name:\")\n",
    "    price = int(input(\"Enter the price of the product:\"))\n",
    "    qty = int(input(\"Enter the quantity:\"))\n",
    "    weight = int(input(\"Enter weight of product:\"))\n",
    "    calorie = int(input(\"Enter calorie of the product\"))\n",
    "    fp = open(\"records.json\", \"r\")\n",
    "    data = fp.read()\n",
    "    fp.close()\n",
    "    existing_rec = json.loads(data)\n",
    "    if (pr_id in existing_rec.keys()):\n",
    "        existing_rec[pr_id][\"quantity\"] += qty\n",
    "    else:\n",
    "         existing_rec[pr_id] = { \"name\":name,\n",
    "                            \"price\":price,\n",
    "                              \"quantity\":qty,\n",
    "                              \"weight\":weight,\n",
    "                              \"calorie\":calorie}\n",
    "    data = json.dumps(existing_rec)\n",
    "    fp = open(\"records.json\", 'w')\n",
    "    fp.write(data)\n",
    "    fp.close()\n",
    "a = 1\n",
    "while(a==1):\n",
    "    addProduct()\n",
    "    a = int(input(\"do you want to add another record? [yes: 1/ No :0]\"))"
   ]
  },
  {
   "cell_type": "code",
   "execution_count": null,
   "metadata": {},
   "outputs": [],
   "source": []
  }
 ],
 "metadata": {
  "kernelspec": {
   "display_name": "Python 3",
   "language": "python",
   "name": "python3"
  },
  "language_info": {
   "codemirror_mode": {
    "name": "ipython",
    "version": 3
   },
   "file_extension": ".py",
   "mimetype": "text/x-python",
   "name": "python",
   "nbconvert_exporter": "python",
   "pygments_lexer": "ipython3",
   "version": "3.7.6"
  }
 },
 "nbformat": 4,
 "nbformat_minor": 4
}
