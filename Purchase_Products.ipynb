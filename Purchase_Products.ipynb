{
 "cells": [
  {
   "cell_type": "code",
   "execution_count": 1,
   "metadata": {},
   "outputs": [],
   "source": [
    "#Reading Data"
   ]
  },
  {
   "cell_type": "code",
   "execution_count": 2,
   "metadata": {},
   "outputs": [],
   "source": [
    "import json\n",
    "\n",
    "txt = open(\"records.json\", \"r\")\n",
    "data = txt.read()\n",
    "txt. close()\n",
    "\n",
    "records=json.loads(data)"
   ]
  },
  {
   "cell_type": "code",
   "execution_count": 3,
   "metadata": {},
   "outputs": [
    {
     "data": {
      "text/plain": [
       "{'name': 'Perk', 'price': 5, 'quantity': 20, 'weight': 20, 'calorie': 50}"
      ]
     },
     "execution_count": 3,
     "metadata": {},
     "output_type": "execute_result"
    }
   ],
   "source": [
    "records[\"1001\"]"
   ]
  },
  {
   "cell_type": "code",
   "execution_count": 4,
   "metadata": {},
   "outputs": [],
   "source": [
    "#Purchasing the product and bill is generated"
   ]
  },
  {
   "cell_type": "code",
   "execution_count": 5,
   "metadata": {},
   "outputs": [
    {
     "name": "stdout",
     "output_type": "stream",
     "text": [
      "Enter the product id:1003\n",
      "Enter the number of products needed:10\n",
      "Enter customer name:Subashini\n",
      "Enter customer mobile number:91234567890\n",
      "*************************************\n",
      "\t\tBill \n",
      "*************************************\n",
      "Customer name: Subashini\n",
      "Customer mobile no: 91234567890\n",
      "____________________________________\n",
      "\n",
      "Product id: 1003\n",
      "Product name: 5 star\n",
      "Quantity: 10\n",
      "Price: 5\n",
      "____________________________________\n",
      "Total Amount: 50 \n",
      "\n"
     ]
    }
   ],
   "source": [
    "pr_id = input(\"Enter the product id:\")\n",
    "qty = int(input(\"Enter the number of products needed:\"))\n",
    "c_name = input(\"Enter customer name:\")\n",
    "c_mob = input(\"Enter customer mobile number:\")\n",
    "if pr_id in records.keys() and records[pr_id][\"quantity\"]>=qty:\n",
    "#     if (qty <= records[pr_id]['qty']):\n",
    "        # Generate the bill:\n",
    "    print(\"*************************************\\n\\t\\tBill \\n*************************************\")\n",
    "    print(\"Customer name:\",c_name)\n",
    "    print(\"Customer mobile no:\", c_mob)\n",
    "    print(\"____________________________________\\n\")\n",
    "    print(\"Product id:\",pr_id)\n",
    "    print(\"Product name:\",records[pr_id][\"name\"])\n",
    "    print(\"Quantity:\",qty)\n",
    "    print(\"Price:\",records[pr_id][\"price\"])\n",
    "    print(\"____________________________________\")\n",
    "    print(\"Total Amount:\", qty * records[pr_id]['price'],\"\\n\")\n",
    "\n",
    "    # update the qty in the records\n",
    "    records[pr_id][\"quantity\"] -= qty\n",
    "else:\n",
    "    print(\"Product is out of stock\")\n"
   ]
  },
  {
   "cell_type": "code",
   "execution_count": 6,
   "metadata": {},
   "outputs": [],
   "source": [
    "#Updating the json file with the new quantity"
   ]
  },
  {
   "cell_type": "code",
   "execution_count": 7,
   "metadata": {},
   "outputs": [],
   "source": [
    "data = json.dumps(records)\n",
    "\n",
    "fp = open(\"records.json\", \"w\")\n",
    "fp.write(data)\n",
    "fp.close()"
   ]
  },
  {
   "cell_type": "code",
   "execution_count": null,
   "metadata": {},
   "outputs": [],
   "source": []
  }
 ],
 "metadata": {
  "kernelspec": {
   "display_name": "Python 3",
   "language": "python",
   "name": "python3"
  },
  "language_info": {
   "codemirror_mode": {
    "name": "ipython",
    "version": 3
   },
   "file_extension": ".py",
   "mimetype": "text/x-python",
   "name": "python",
   "nbconvert_exporter": "python",
   "pygments_lexer": "ipython3",
   "version": "3.7.6"
  }
 },
 "nbformat": 4,
 "nbformat_minor": 4
}
